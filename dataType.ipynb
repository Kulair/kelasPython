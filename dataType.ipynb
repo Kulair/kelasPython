{
 "cells": [
  {
   "cell_type": "code",
   "execution_count": null,
   "metadata": {},
   "outputs": [],
   "source": [
    "#bilangan bulat: Integer\n",
    "tinggi = 4\n",
    "\n",
    "#bilangan decimal: Float\n",
    "luas = 4.5\n",
    "\n",
    "#text: String\n",
    "cetak = \"hello, salam kenal\"\n",
    "\n",
    "#logika: Boolean\n",
    "stop = True\n",
    "stop2 = False\n",
    "\n",
    "stop3 = 1\n",
    "stop4 = 0"
   ]
  }
 ],
 "metadata": {
  "kernelspec": {
   "display_name": "Python 3",
   "language": "python",
   "name": "python3"
  },
  "language_info": {
   "codemirror_mode": {
    "name": "ipython",
    "version": 3
   },
   "file_extension": ".py",
   "mimetype": "text/x-python",
   "name": "python",
   "nbconvert_exporter": "python",
   "pygments_lexer": "ipython3",
   "version": "3.7.6"
  }
 },
 "nbformat": 4,
 "nbformat_minor": 4
}
