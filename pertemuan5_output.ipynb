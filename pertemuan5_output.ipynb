{
 "cells": [
  {
   "cell_type": "code",
   "execution_count": 7,
   "metadata": {},
   "outputs": [
    {
     "name": "stdout",
     "output_type": "stream",
     "text": [
      "========================\n",
      "\tBIODATA\n",
      "========================\n",
      "Nama :  oji\n",
      "Umur : 17\n",
      "Tinggi :  171.5  cm\n",
      "Alamat :  jl. ayani no. 15  Kota  Pontianak\n"
     ]
    }
   ],
   "source": [
    "nama = \"oji\"\n",
    "umur = 17\n",
    "tinggi = 171.5\n",
    "alamat = \"jl. ayani no. 15\"\n",
    "kota = \"Pontianak\"\n",
    "\n",
    "print(\"========================\")\n",
    "print(\"\\tBIODATA\")\n",
    "print(\"========================\")\n",
    "print(\"Nama : \", nama)\n",
    "print(\"Umur :\", umur)\n",
    "print(\"Tinggi : \", tinggi, \" cm\")\n",
    "print(\"Alamat : \", alamat, \" Kota \", kota)\n"
   ]
  },
  {
   "cell_type": "code",
   "execution_count": null,
   "metadata": {},
   "outputs": [],
   "source": []
  }
 ],
 "metadata": {
  "kernelspec": {
   "display_name": "Python 3",
   "language": "python",
   "name": "python3"
  },
  "language_info": {
   "codemirror_mode": {
    "name": "ipython",
    "version": 3
   },
   "file_extension": ".py",
   "mimetype": "text/x-python",
   "name": "python",
   "nbconvert_exporter": "python",
   "pygments_lexer": "ipython3",
   "version": "3.7.6"
  }
 },
 "nbformat": 4,
 "nbformat_minor": 4
}
