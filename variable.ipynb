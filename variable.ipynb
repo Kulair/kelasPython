{
 "cells": [
  {
   "cell_type": "code",
   "execution_count": 10,
   "metadata": {},
   "outputs": [
    {
     "name": "stdout",
     "output_type": "stream",
     "text": [
      "jio\n",
      "3\n"
     ]
    }
   ],
   "source": [
    "a = 3\n",
    "b = \"saya\"\n",
    "\n",
    "#case sensitive\n",
    "nama = \"oji\"\n",
    "Nama = \"ijo\"\n",
    "\n",
    "#huruf a-z\n",
    "umur = 17\n",
    "UMUR = 20\n",
    "\n",
    "#angka\n",
    "umur2 = 20\n",
    "um3ur = 21\n",
    "\n",
    "#underscore\n",
    "_nama = \"jio\"\n",
    "nama_ = \"dia\"\n",
    "\n",
    "print(_nama)\n",
    "print(a)"
   ]
  },
  {
   "cell_type": "code",
   "execution_count": 11,
   "metadata": {},
   "outputs": [
    {
     "ename": "SyntaxError",
     "evalue": "invalid syntax (<ipython-input-11-43f928cca030>, line 2)",
     "output_type": "error",
     "traceback": [
      "\u001b[0;36m  File \u001b[0;32m\"<ipython-input-11-43f928cca030>\"\u001b[0;36m, line \u001b[0;32m2\u001b[0m\n\u001b[0;31m    2umur = 18\u001b[0m\n\u001b[0m        ^\u001b[0m\n\u001b[0;31mSyntaxError\u001b[0m\u001b[0;31m:\u001b[0m invalid syntax\n"
     ]
    }
   ],
   "source": [
    "#angka di depan var\n",
    "2umur = 18"
   ]
  },
  {
   "cell_type": "code",
   "execution_count": 12,
   "metadata": {},
   "outputs": [
    {
     "ename": "SyntaxError",
     "evalue": "can't assign to operator (<ipython-input-12-47ab76bca040>, line 2)",
     "output_type": "error",
     "traceback": [
      "\u001b[0;36m  File \u001b[0;32m\"<ipython-input-12-47ab76bca040>\"\u001b[0;36m, line \u001b[0;32m2\u001b[0m\n\u001b[0;31m    umur-ku = 12\u001b[0m\n\u001b[0m                ^\u001b[0m\n\u001b[0;31mSyntaxError\u001b[0m\u001b[0;31m:\u001b[0m can't assign to operator\n"
     ]
    }
   ],
   "source": [
    "#menggunakan dash\n",
    "umur-ku = 12"
   ]
  },
  {
   "cell_type": "code",
   "execution_count": 13,
   "metadata": {},
   "outputs": [
    {
     "ename": "SyntaxError",
     "evalue": "invalid syntax (<ipython-input-13-b535c1d177b7>, line 2)",
     "output_type": "error",
     "traceback": [
      "\u001b[0;36m  File \u001b[0;32m\"<ipython-input-13-b535c1d177b7>\"\u001b[0;36m, line \u001b[0;32m2\u001b[0m\n\u001b[0;31m    umur ku = 18\u001b[0m\n\u001b[0m          ^\u001b[0m\n\u001b[0;31mSyntaxError\u001b[0m\u001b[0;31m:\u001b[0m invalid syntax\n"
     ]
    }
   ],
   "source": [
    "#menggunakan spasi\n",
    "umur ku = 18"
   ]
  },
  {
   "cell_type": "code",
   "execution_count": null,
   "metadata": {},
   "outputs": [],
   "source": [
    "#menggunakan lebih 2 kata\n",
    "nama_ku = \"ida\" #snake case\n",
    "namaKu = \"dai\" #camel case"
   ]
  }
 ],
 "metadata": {
  "kernelspec": {
   "display_name": "Python 3",
   "language": "python",
   "name": "python3"
  },
  "language_info": {
   "codemirror_mode": {
    "name": "ipython",
    "version": 3
   },
   "file_extension": ".py",
   "mimetype": "text/x-python",
   "name": "python",
   "nbconvert_exporter": "python",
   "pygments_lexer": "ipython3",
   "version": "3.7.6"
  }
 },
 "nbformat": 4,
 "nbformat_minor": 4
}
